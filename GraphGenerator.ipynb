{
 "cells": [
  {
   "cell_type": "code",
   "execution_count": 3,
   "metadata": {},
   "outputs": [],
   "source": [
    "import matplotlib.pyplot as plt\n",
    "import os"
   ]
  },
  {
   "cell_type": "code",
   "execution_count": 4,
   "metadata": {},
   "outputs": [
    {
     "data": {
      "text/plain": [
       "['.idea',\n",
       " '.ipynb_checkpoints',\n",
       " 'cmake-build-debug',\n",
       " 'CMakeLists.txt',\n",
       " 'GraphGenerator.ipynb',\n",
       " 'main.cpp',\n",
       " 'Untitled.ipynb']"
      ]
     },
     "execution_count": 4,
     "metadata": {},
     "output_type": "execute_result"
    }
   ],
   "source": [
    "os.listdir()"
   ]
  },
  {
   "cell_type": "code",
   "execution_count": 20,
   "metadata": {},
   "outputs": [],
   "source": [
    "filek = open(\"CPUvariedK.txt\", \"r\")"
   ]
  },
  {
   "cell_type": "code",
   "execution_count": 21,
   "metadata": {},
   "outputs": [],
   "source": [
    "contents = filek.read().split(\"\\n\")"
   ]
  },
  {
   "cell_type": "code",
   "execution_count": 22,
   "metadata": {},
   "outputs": [
    {
     "data": {
      "text/plain": [
       "['K, T, Time, Flops',\n",
       " '6, 10000, 0, inf',\n",
       " '12, 10000, 0, inf',\n",
       " '18, 10000, 0.016, 6.08068e+08',\n",
       " '24, 10000, 0.031, 5.57689e+08',\n",
       " '30, 10000, 0.063, 4.28689e+08',\n",
       " '36, 10000, 0.078, 4.98541e+08',\n",
       " '42, 10000, 0.109, 4.85549e+08',\n",
       " '48, 10000, 0.156, 4.43098e+08',\n",
       " '54, 10000, 0.172, 5.08613e+08',\n",
       " '60, 10000, 0.235, 4.59572e+08',\n",
       " '66, 10000, 0.25, 5.22709e+08',\n",
       " '72, 10000, 0.328, 4.7413e+08',\n",
       " '78, 10000, 0.343, 5.32105e+08',\n",
       " '84, 10000, 0.438, 4.83263e+08',\n",
       " '90, 10000, 0.484, 5.02037e+08',\n",
       " '96, 10000, 0.547, 5.05416e+08',\n",
       " '102, 10000, 0.625, 4.99359e+08',\n",
       " '108, 10000, 0.704, 4.9701e+08',\n",
       " '114, 10000, 0.765, 5.0961e+08',\n",
       " '120, 10000, 0.843, 5.12417e+08',\n",
       " '126, 10000, 0.938, 5.07721e+08',\n",
       " '132, 10000, 1.046, 4.99692e+08',\n",
       " '138, 10000, 1.141, 5.00678e+08',\n",
       " '144, 10000, 1.235, 5.03667e+08',\n",
       " '150, 10000, 1.359, 4.96647e+08',\n",
       " '156, 10000, 1.469, 4.96949e+08',\n",
       " '162, 10000, 1.609, 4.8928e+08',\n",
       " '168, 10000, 1.735, 4.8798e+08',\n",
       " '174, 10000, 1.906, 4.76495e+08',\n",
       " '180, 10000, 2.047, 4.74799e+08',\n",
       " '186, 10000, 2.219, 4.67682e+08',\n",
       " '192, 10000, 2.359, 4.68766e+08',\n",
       " '198, 10000, 2.547, 4.61725e+08',\n",
       " '204, 10000, 2.719, 4.59127e+08',\n",
       " '210, 10000, 2.859, 4.62707e+08',\n",
       " '216, 10000, 3.047, 4.59321e+08',\n",
       " '222, 10000, 3.203, 4.61562e+08',\n",
       " '228, 10000, 3.344, 4.6632e+08',\n",
       " '234, 10000, 3.577, 4.59191e+08',\n",
       " '240, 10000, 3.735, 4.62607e+08',\n",
       " '246, 10000, 3.969, 4.57372e+08',\n",
       " '252, 10000, 4.281, 4.44976e+08',\n",
       " '258, 10000, 4.422, 4.51545e+08',\n",
       " '264, 10000, 4.672, 4.47492e+08',\n",
       " '270, 10000, 4.891, 4.47105e+08',\n",
       " '276, 10000, 5.156, 4.43185e+08',\n",
       " '282, 10000, 5.406, 4.41268e+08',\n",
       " '288, 10000, 5.688, 4.37426e+08',\n",
       " '294, 10000, 5.968, 4.34456e+08',\n",
       " '300, 10000, 6.25, 4.31959e+08',\n",
       " '']"
      ]
     },
     "execution_count": 22,
     "metadata": {},
     "output_type": "execute_result"
    }
   ],
   "source": [
    "for exp in content[1:]:\n",
    "    \n",
    "    \n",
    "    \n",
    "    "
   ]
  },
  {
   "cell_type": "code",
   "execution_count": null,
   "metadata": {},
   "outputs": [],
   "source": []
  }
 ],
 "metadata": {
  "kernelspec": {
   "display_name": "Python 3",
   "language": "python",
   "name": "python3"
  },
  "language_info": {
   "codemirror_mode": {
    "name": "ipython",
    "version": 3
   },
   "file_extension": ".py",
   "mimetype": "text/x-python",
   "name": "python",
   "nbconvert_exporter": "python",
   "pygments_lexer": "ipython3",
   "version": "3.6.0"
  }
 },
 "nbformat": 4,
 "nbformat_minor": 2
}
